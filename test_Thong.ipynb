{
 "cells": [
  {
   "cell_type": "code",
   "execution_count": 1,
   "id": "898be3c9",
   "metadata": {},
   "outputs": [],
   "source": [
    "import requests"
   ]
  },
  {
   "cell_type": "code",
   "execution_count": 2,
   "id": "8e9438e3",
   "metadata": {},
   "outputs": [],
   "source": [
    "url = \"http://localhost:8989\""
   ]
  },
  {
   "cell_type": "code",
   "execution_count": 3,
   "id": "8cd33e5e",
   "metadata": {},
   "outputs": [],
   "source": [
    "response = requests.post(f\"{url}/search\", json = {\"query\": \"Hội nghị cấp khoa?\"})"
   ]
  },
  {
   "cell_type": "code",
   "execution_count": 4,
   "id": "e85c31ee",
   "metadata": {},
   "outputs": [
    {
     "data": {
      "text/plain": [
       "{'id': '88a6b327-5265-417f-90bb-51557709d181',\n",
       " 'payload': {'content': 'Chiều ngày 15/01/2021 tại phòng LAB của Khoa CNTT ĐH Công Nghiệp TP HCM đã tổ chức buổi giới thiệu môn học ERP do TVHpro Edu xây dựng và mô phỏng trên hệ thống Hoạch định nguồn lực doanh nghiệp\\xa0SS4U.ERP Express 2021\\xa0của SS4U Express. Đây là lần thứ 3 chúng tôi trình bày môn học ERP với IUH. Lần 1 với Khoa QTKD năm 2013, lần 2 với Khoa CNTT vào năm 2018.\\n\\nGiảng viên Khoa CNTT tham khảo tài liệu sản phẩm ERP của SS4U\\nÔng Thẩm Văn Hương- Sáng lập, Chủ tịch HĐQT các công ty đã giới thiệu kinh nghiệm đào tạo ERP ở các trường đại học, chương trình đào tạo và demo phần mềm SS4U.ERP Express,\\xa0SS4U.BI\\n\\nKịch bản mô phỏng ERP phiên bản 2021\\nCác bên đã trao đổi nhiều nội dung liên quan và thống nhất sẽ đưa hệ thống SS4U.ERP Express cùng với chương trình đào tạo cho ngành hệ thống thông tin quản lý ngay trong năm học tới.\\n\\nHệ thống SS4U.ERP Express 2021 được xây dựng trên công nghệ Oracle\\n\\nÔng Thẩm Văn Hương giới thiệu chi tiết kịch bản đào tạo cho Khoa CNTT\\nNhư vậy, SS4U cùng với TVHpro Edu đã hoàn thành xuất sắc kế hoạch phát triển hoạt động đào tạo trong năm 2020 với các trường ĐH quy mô lớn nhất TP HCM như: ĐH Kinh tế TP HCM, ĐH Bách Khoa TP HCM (Khoa Quản lý công nghiệp), ĐH Sư Phạm Kỹ Thuật TP HCM, ĐH Văn Lang TP HCM, ĐH Tài Chính Marketing TP HCM, ĐH Hoa Sen TP HCM, ĐH Hutech, ĐH Kinh Tế Tài Chính TP HCM…và ĐH Công Nghiệp TP HCM.\\nTrong buổi làm việc, kỹ thuật Công ty cung cấp giải pháp Cloud Server\\xa0EXA\\xa0đã chia sẻ giải pháp Server phù hợp cho hoạt động đào tạo.\\n\\nNăm 2021, TVHpro Edu & SS4U sẽ chia sẻ môn học ERP cho các Trường ĐH ở Phú Yên, Đà Nẵng và ĐBSCL.\\nSS4U đang lên kế hoạch xây dựng giải pháp lập báo cáo tài chính theo chuẩn mực kế toán quốc tế IFRS trong năm 2021 để đáp ứng yêu cầu quản trị của doanh nghiệp và phù hợp với xu hướng hội nhập quốc tế của Việt Nam.\\nNguồn. SS4U\\nLink online\\n',\n",
       "  'date': '2021-01-25T00:00:00',\n",
       "  'href': 'news.html@detail@102@2689@SS4U-&-TVHpro-EDU-HOP-TAC-DAO-TAO-ERP-VOI-KHOA-CNTT-DH-CONG-NGHIEP-TP-HCM',\n",
       "  'title': 'SS4U & TVHpro EDU HỢP TÁC ĐÀO TẠO ERP VỚI KHOA CNTT ĐH CÔNG NGHIỆP TP HCM'},\n",
       " 'score': 0.051544394,\n",
       " 'shard_key': None,\n",
       " 'vector': None,\n",
       " 'version': 471}"
      ]
     },
     "execution_count": 4,
     "metadata": {},
     "output_type": "execute_result"
    }
   ],
   "source": [
    "response.json()\n"
   ]
  },
  {
   "cell_type": "code",
   "execution_count": 5,
   "id": "cbeb9f5a",
   "metadata": {},
   "outputs": [],
   "source": [
    "response = requests.post(f\"{url}/complete\", json = {\"query\": \"Hội nghị cấp khoa được tổ chức ngày nào? bao gồm những nội dung gì?\"})"
   ]
  },
  {
   "cell_type": "code",
   "execution_count": 6,
   "id": "d237cc1e",
   "metadata": {},
   "outputs": [
    {
     "data": {
      "text/plain": [
       "{'answer': 'Hội nghị cấp khoa được tổ chức ngày nào? bao gồm những nội dung gì? u v c l e q e e r d u f e o v i g b m g t m k h h b a q b i z h m b x m s c r v n o j j k c j p u l r v o o m q n n r s o j y b l d v c y p d l b d h f y q d z n i k j l u h a t w t s i x x o t b a j'}"
      ]
     },
     "execution_count": 6,
     "metadata": {},
     "output_type": "execute_result"
    }
   ],
   "source": [
    "response.json()"
   ]
  }
 ],
 "metadata": {
  "kernelspec": {
   "display_name": "Python 3 (ipykernel)",
   "language": "python",
   "name": "python3"
  },
  "language_info": {
   "codemirror_mode": {
    "name": "ipython",
    "version": 3
   },
   "file_extension": ".py",
   "mimetype": "text/x-python",
   "name": "python",
   "nbconvert_exporter": "python",
   "pygments_lexer": "ipython3",
   "version": "3.11.5"
  }
 },
 "nbformat": 4,
 "nbformat_minor": 5
}
